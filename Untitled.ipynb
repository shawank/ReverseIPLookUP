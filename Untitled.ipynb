{
 "cells": [
  {
   "cell_type": "code",
   "execution_count": 59,
   "metadata": {},
   "outputs": [
    {
     "name": "stdout",
     "output_type": "stream",
     "text": [
      "216.239.38.10,US,United States,NE,Nebraska,Omaha,68118,America/Chicago,41.2616,-96.1820,652\n",
      "\n",
      "216.239.32.10,US,United States,NE,Nebraska,Omaha,68118,America/Chicago,41.2616,-96.1820,652\n",
      "\n",
      "216.239.34.10,US,United States,NE,Nebraska,Omaha,68118,America/Chicago,41.2616,-96.1820,652\n",
      "\n",
      "216.239.36.10,US,United States,NE,Nebraska,Omaha,68118,America/Chicago,41.2616,-96.1820,652\n",
      "\n"
     ]
    },
    {
     "name": "stderr",
     "output_type": "stream",
     "text": [
      "ERROR:apscheduler.executors.default:Job \"lookup (trigger: date[2018-01-29 02:30:44 IST], next run at: 2018-01-29 02:31:27 IST)\" raised an exception\n",
      "Traceback (most recent call last):\n",
      "  File \"/usr/local/lib/python3.6/site-packages/apscheduler/executors/base.py\", line 125, in run_job\n",
      "    retval = job.func(*job.args, **job.kwargs)\n",
      "  File \"<ipython-input-59-bf04ab3371f2>\", line 30, in lookup\n",
      "    writer.writerow(dnsquery+ [temp[0][0], temp[0][0]])\n",
      "IndexError: list index out of range\n"
     ]
    },
    {
     "name": "stdout",
     "output_type": "stream",
     "text": [
      "2404:6800:4002:805::2004,AU,Australia,,,,,,-27.0000,133.0000,0\r\n",
      "\n"
     ]
    },
    {
     "name": "stderr",
     "output_type": "stream",
     "text": [
      "ERROR:apscheduler.executors.default:Job \"lookup (trigger: date[2018-01-29 02:30:44 IST], next run at: 2018-01-29 02:33:15 IST)\" raised an exception\n",
      "Traceback (most recent call last):\n",
      "  File \"/usr/local/lib/python3.6/site-packages/apscheduler/executors/base.py\", line 125, in run_job\n",
      "    retval = job.func(*job.args, **job.kwargs)\n",
      "  File \"<ipython-input-59-bf04ab3371f2>\", line 30, in lookup\n",
      "    writer.writerow(dnsquery+ [temp[0][0], temp[0][0]])\n",
      "IndexError: list index out of range\n"
     ]
    },
    {
     "name": "stdout",
     "output_type": "stream",
     "text": [
      "172.217.161.4,US,United States,CA,California,Mountain View,94043,America/Los_Angeles,37.4192,-122.0574,807\r\n",
      "\n"
     ]
    }
   ],
   "source": [
    "from apscheduler.schedulers.background import BackgroundScheduler as Scheduler\n",
    "import datetime\n",
    "import csv\n",
    "import requests\n",
    "import re\n",
    "import time\n",
    "\n",
    "\n",
    "outfile = open(\"iplocation.csv\", 'w+')\n",
    "writer = csv.writer(outfile, quotechar='|', quoting=csv.QUOTE_MINIMAL)\n",
    "# Start the scheduler\n",
    "sch = Scheduler()\n",
    "sch.start()\n",
    "\n",
    "# Define the function that is to be executed\n",
    "def my_job(text):\n",
    "    print (text)\n",
    "\n",
    "#Schedule job\n",
    "def schedule(dnsquery):\n",
    "    job = sch.add_job(lookup, next_run_time =datetime.datetime.now() + datetime.timedelta(seconds = int(dnsquery[4])) , args = [dnsquery])\n",
    "    \n",
    "def lookup(dnsquery):\n",
    "    str = 'http://freegeoip.net/csv/' + dnsquery[7]\n",
    "    r = requests.get(str)\n",
    "#     print(r.text)\n",
    "    if (r.status_code == 200 ):\n",
    "        print(r.text)\n",
    "        temp = re.findall(r'(-?\\d{2}\\.\\d{4}),(-?\\d{2}\\.\\d{4})', r.text)\n",
    "        writer.writerow(dnsquery+ [temp[0][0], temp[0][0]])\n",
    "\n",
    "with open('database2.csv') as fr:\n",
    "    reader = csv.reader(fr)\n",
    "\n",
    "    for i in reader:\n",
    "        if (i == []):\n",
    "            break\n",
    "            \n",
    "        elif (i[6] == \"AAAA\" or i[6] == \"A\"):\n",
    "            schedule(i)\n",
    "#             print(i)\n",
    "    while (sch.get_jobs() != []):\n",
    "        time.sleep(100)\n",
    "    outfile.close()\n",
    "    \n",
    "            \n",
    "        \n",
    "    \n"
   ]
  },
  {
   "cell_type": "code",
   "execution_count": 5,
   "metadata": {},
   "outputs": [
    {
     "name": "stdout",
     "output_type": "stream",
     "text": [
      "[['Domain Queried', 'Answer Type', 'Domain Name Returned', 'TTL', 'Unknown', 'Query Type', 'IP address'], ['1', 'www.google.com', ' ANSWER SECTION', 'www.google.com.', '43', 'IN', 'AAAA', '2404:6800:4002:805::2004'], ['1', 'www.google.com', ' ANSWER SECTION', 'www.google.com.', '151', 'IN', 'A', '172.217.161.4'], ['1', 'www.google.com', ' AUTHORITY SECTION', 'google.com.', '58630', 'IN', 'NS', 'ns3.google.com.'], ['1', 'www.google.com', ' AUTHORITY SECTION', 'google.com.', '58630', 'IN', 'NS', 'ns2.google.com.'], ['1', 'www.google.com', ' AUTHORITY SECTION', 'google.com.', '58630', 'IN', 'NS', 'ns4.google.com.'], ['1', 'www.google.com', ' AUTHORITY SECTION', 'google.com.', '58630', 'IN', 'NS', 'ns1.google.com.'], ['1', 'www.google.com', ' ADDITIONAL SECTION', 'ns1.google.com.', '129248', 'IN', 'A', '216.239.32.10'], ['1', 'www.google.com', ' ADDITIONAL SECTION', 'ns2.google.com.', '214488', 'IN', 'A', '216.239.34.10'], ['1', 'www.google.com', ' ADDITIONAL SECTION', 'ns3.google.com.', '323478', 'IN', 'A', '216.239.36.10'], ['1', 'www.google.com', ' ADDITIONAL SECTION', 'ns4.google.com.', '318167', 'IN', 'A', '216.239.38.10'], ['2', 'www.yahoo.com', ' ANSWER SECTION', 'www.yahoo.com.', '1466', 'IN', 'CNAME', 'atsv2', 'fp.wg1.b.yahoo.com.'], ['2', 'www.yahoo.com', ' AUTHORITY SECTION', 'com.', '146604', 'IN', 'NS', 'e.gtld', 'servers.net.'], ['2', 'www.yahoo.com', ' AUTHORITY SECTION', 'com.', '146604', 'IN', 'NS', 'h.gtld', 'servers.net.'], ['2', 'www.yahoo.com', ' AUTHORITY SECTION', 'com.', '146604', 'IN', 'NS', 'd.gtld', 'servers.net.'], ['2', 'www.yahoo.com', ' AUTHORITY SECTION', 'com.', '146604', 'IN', 'NS', 'b.gtld', 'servers.net.'], ['2', 'www.yahoo.com', ' AUTHORITY SECTION', 'com.', '146604', 'IN', 'NS', 'm.gtld', 'servers.net.'], ['2', 'www.yahoo.com', ' AUTHORITY SECTION', 'com.', '146604', 'IN', 'NS', 'i.gtld', 'servers.net.'], ['2', 'www.yahoo.com', ' AUTHORITY SECTION', 'com.', '146604', 'IN', 'NS', 'k.gtld', 'servers.net.'], ['2', 'www.yahoo.com', ' AUTHORITY SECTION', 'com.', '146604', 'IN', 'NS', 'j.gtld', 'servers.net.'], ['2', 'www.yahoo.com', ' AUTHORITY SECTION', 'com.', '146604', 'IN', 'NS', 'g.gtld', 'servers.net.'], ['2', 'www.yahoo.com', ' AUTHORITY SECTION', 'com.', '146604', 'IN', 'NS', 'l.gtld', 'servers.net.'], ['2', 'www.yahoo.com', ' AUTHORITY SECTION', 'com.', '146604', 'IN', 'NS', 'a.gtld', 'servers.net.'], ['2', 'www.yahoo.com', ' AUTHORITY SECTION', 'com.', '146604', 'IN', 'NS', 'f.gtld', 'servers.net.'], ['2', 'www.yahoo.com', ' AUTHORITY SECTION', 'com.', '146604', 'IN', 'NS', 'c.gtld', 'servers.net.'], ['2', 'www.yahoo.com', ' ADDITIONAL SECTION', 'a.gtld', 'servers.net.', '17171', 'IN', 'A', '192.5.6.30'], ['2', 'www.yahoo.com', ' ADDITIONAL SECTION', 'a.gtld', 'servers.net.', '159134', 'IN', 'AAAA', '2001:503:a83e::2:30'], ['2', 'www.yahoo.com', ' ADDITIONAL SECTION', 'b.gtld', 'servers.net.', '91486', 'IN', 'A', '192.33.14.30'], ['2', 'www.yahoo.com', ' ADDITIONAL SECTION', 'b.gtld', 'servers.net.', '159134', 'IN', 'AAAA', '2001:503:231d::2:30'], ['2', 'www.yahoo.com', ' ADDITIONAL SECTION', 'c.gtld', 'servers.net.', '63879', 'IN', 'A', '192.26.92.30'], ['2', 'www.yahoo.com', ' ADDITIONAL SECTION', 'c.gtld', 'servers.net.', '147115', 'IN', 'AAAA', '2001:503:83eb::30'], ['2', 'www.yahoo.com', ' ADDITIONAL SECTION', 'd.gtld', 'servers.net.', '16367', 'IN', 'A', '192.31.80.30'], ['2', 'www.yahoo.com', ' ADDITIONAL SECTION', 'd.gtld', 'servers.net.', '35145', 'IN', 'AAAA', '2001:500:856e::30'], ['2', 'www.yahoo.com', ' ADDITIONAL SECTION', 'e.gtld', 'servers.net.', '55005', 'IN', 'A', '192.12.94.30'], ['2', 'www.yahoo.com', ' ADDITIONAL SECTION', 'f.gtld', 'servers.net.', '69695', 'IN', 'A', '192.35.51.30']]\n"
     ]
    }
   ],
   "source": [
    "import csv\n",
    "with open('database2.csv', 'r') as f:\n",
    "    reader = csv.reader(f)\n",
    "    your_list = list(reader)\n",
    "\n",
    "print (your_list)"
   ]
  },
  {
   "cell_type": "code",
   "execution_count": 9,
   "metadata": {},
   "outputs": [
    {
     "ename": "ModuleNotFoundError",
     "evalue": "No module named 'public'",
     "output_type": "error",
     "traceback": [
      "\u001b[0;31m---------------------------------------------------------------------------\u001b[0m",
      "\u001b[0;31mModuleNotFoundError\u001b[0m                       Traceback (most recent call last)",
      "\u001b[0;32m<ipython-input-9-4a5b04407944>\u001b[0m in \u001b[0;36m<module>\u001b[0;34m()\u001b[0m\n\u001b[0;32m----> 1\u001b[0;31m \u001b[0;32mimport\u001b[0m \u001b[0mrequest\u001b[0m\u001b[0;34m\u001b[0m\u001b[0m\n\u001b[0m\u001b[1;32m      2\u001b[0m \u001b[0mresult\u001b[0m \u001b[0;34m=\u001b[0m \u001b[0mrequest\u001b[0m\u001b[0;34m.\u001b[0m\u001b[0mget\u001b[0m\u001b[0;34m(\u001b[0m\u001b[0;34m'https://freegeoip.net/?q='\u001b[0m \u001b[0;34m+\u001b[0m \u001b[0mip\u001b[0m\u001b[0;34m)\u001b[0m\u001b[0;34m\u001b[0m\u001b[0m\n",
      "\u001b[0;32m/usr/local/lib/python3.6/site-packages/request/__init__.py\u001b[0m in \u001b[0;36m<module>\u001b[0;34m()\u001b[0m\n\u001b[1;32m      1\u001b[0m \u001b[0;31m#!/usr/bin/env python\u001b[0m\u001b[0;34m\u001b[0m\u001b[0;34m\u001b[0m\u001b[0m\n\u001b[0;32m----> 2\u001b[0;31m \u001b[0;32mfrom\u001b[0m \u001b[0mget\u001b[0m \u001b[0;32mimport\u001b[0m \u001b[0mGET\u001b[0m\u001b[0;34m\u001b[0m\u001b[0m\n\u001b[0m\u001b[1;32m      3\u001b[0m \u001b[0;32mfrom\u001b[0m \u001b[0mpost\u001b[0m \u001b[0;32mimport\u001b[0m \u001b[0mPOST\u001b[0m\u001b[0;34m\u001b[0m\u001b[0m\n\u001b[1;32m      4\u001b[0m \u001b[0;34m\u001b[0m\u001b[0m\n\u001b[1;32m      5\u001b[0m \u001b[0m__all__\u001b[0m \u001b[0;34m=\u001b[0m \u001b[0;34m[\u001b[0m\u001b[0;34m\"REQUEST\"\u001b[0m\u001b[0;34m]\u001b[0m\u001b[0;34m\u001b[0m\u001b[0m\n",
      "\u001b[0;32m/usr/local/lib/python3.6/site-packages/get/__init__.py\u001b[0m in \u001b[0;36m<module>\u001b[0;34m()\u001b[0m\n\u001b[1;32m      1\u001b[0m \u001b[0;31m#!/usr/bin/env python\u001b[0m\u001b[0;34m\u001b[0m\u001b[0;34m\u001b[0m\u001b[0m\n\u001b[1;32m      2\u001b[0m \u001b[0;32mimport\u001b[0m \u001b[0mos\u001b[0m\u001b[0;34m\u001b[0m\u001b[0m\n\u001b[0;32m----> 3\u001b[0;31m \u001b[0;32mfrom\u001b[0m \u001b[0mquery_string\u001b[0m \u001b[0;32mimport\u001b[0m \u001b[0mquery_string\u001b[0m\u001b[0;34m\u001b[0m\u001b[0m\n\u001b[0m\u001b[1;32m      4\u001b[0m \u001b[0;34m\u001b[0m\u001b[0m\n\u001b[1;32m      5\u001b[0m \u001b[0m__all__\u001b[0m \u001b[0;34m=\u001b[0m \u001b[0;34m[\u001b[0m\u001b[0;34m\"GET\"\u001b[0m\u001b[0;34m]\u001b[0m\u001b[0;34m\u001b[0m\u001b[0m\n",
      "\u001b[0;32m/usr/local/lib/python3.6/site-packages/query_string/__init__.py\u001b[0m in \u001b[0;36m<module>\u001b[0;34m()\u001b[0m\n\u001b[1;32m      4\u001b[0m \u001b[0;32mexcept\u001b[0m \u001b[0mImportError\u001b[0m\u001b[0;34m:\u001b[0m\u001b[0;34m\u001b[0m\u001b[0m\n\u001b[1;32m      5\u001b[0m     \u001b[0;32mfrom\u001b[0m \u001b[0murllib\u001b[0m\u001b[0;34m.\u001b[0m\u001b[0mparse\u001b[0m \u001b[0;32mimport\u001b[0m \u001b[0mparse_qs\u001b[0m\u001b[0;34m\u001b[0m\u001b[0m\n\u001b[0;32m----> 6\u001b[0;31m \u001b[0;32mfrom\u001b[0m \u001b[0mpublic\u001b[0m \u001b[0;32mimport\u001b[0m \u001b[0mpublic\u001b[0m\u001b[0;34m\u001b[0m\u001b[0m\n\u001b[0m\u001b[1;32m      7\u001b[0m \u001b[0;34m\u001b[0m\u001b[0m\n\u001b[1;32m      8\u001b[0m \u001b[0;34m\u001b[0m\u001b[0m\n",
      "\u001b[0;31mModuleNotFoundError\u001b[0m: No module named 'public'"
     ]
    }
   ],
   "source": [
    "import request    \n",
    "result = request.get('https://freegeoip.net/?q=' + ip)"
   ]
  },
  {
   "cell_type": "code",
   "execution_count": 3,
   "metadata": {},
   "outputs": [
    {
     "name": "stdout",
     "output_type": "stream",
     "text": [
      "[('28.6667', '77.2167')]\n"
     ]
    }
   ],
   "source": [
    "import requests\n",
    "import re\n",
    "str = 'https://geoip17198.herokuapp.com/csv/' + '103.27.8.110'\n",
    "r = requests.get(str)\n",
    "temp = re.findall(r'(-?\\d{2}\\.\\d{4}),(-?\\d{2}\\.\\d{4})', r.text)\n",
    "print (temp)"
   ]
  },
  {
   "cell_type": "code",
   "execution_count": 47,
   "metadata": {},
   "outputs": [
    {
     "name": "stdout",
     "output_type": "stream",
     "text": [
      "/Users/admin/Documents/NUS/ReverseIPLookUP\n",
      "[]\n",
      "[]\n",
      "[]\n"
     ]
    }
   ],
   "source": [
    "!pwd\n"
   ]
  },
  {
   "cell_type": "code",
   "execution_count": 8,
   "metadata": {},
   "outputs": [
    {
     "name": "stdout",
     "output_type": "stream",
     "text": [
      "2607:f8b0:4004:80d::2004,US,United States,,,,,,37.7510,-97.8220,0\n",
      "\n",
      "98.138.252.39,US,United States,CA,California,Sunnyvale,94089,America/Los_Angeles,37.4249,-122.0074,807\n",
      "\n"
     ]
    }
   ],
   "source": [
    "###script for the geo location check at the first dns query\n",
    "\n",
    "import csv\n",
    "import requests\n",
    "import re\n",
    "\n",
    "with open(\"iplocation.csv\", 'w+') as outfile:\n",
    "    with open('domainlist.csv', 'r+') as infile:\n",
    "        writer = csv.writer(outfile, quotechar='|', quoting=csv.QUOTE_MINIMAL)\n",
    "        reader = csv.reader(infile, delimiter=',', quotechar='|')\n",
    "        for i in reader:\n",
    "            str = 'x' + i[1]\n",
    "            r = requests.get(str)\n",
    "            temp = re.findall(r'(-?\\d{2}\\.\\d{4}),(-?\\d{2}\\.\\d{4})', r.text)\n",
    "            print(r.text)\n",
    "    #         str = 'http://freegeoip.net/csv/' + dnsquery[7]\n",
    "    #         r = requests.get(str)\n",
    "    #     #     print(r.text)\n",
    "    #         if (r.status_code == 200 ):\n",
    "    #             print(r.text)\n",
    "    #             temp = re.findall(r'(-?\\d{2}\\.\\d{4}),(-?\\d{2}\\.\\d{4})', r.text)\n",
    "    #             writer.writerow(dnsquery+ [temp[0][0], temp[0][0]])\n",
    "\n",
    "    # with open('database2.csv') as fr:\n",
    "    #     reader = csv.reader(fr)\n",
    "\n",
    "    #     for i in reader:\n",
    "    #         if (i == []):\n",
    "    #             break\n",
    "\n",
    "    #         elif (i[6] == \"AAAA\" or i[6] == \"A\"):\n",
    "    #             schedule(i)\n",
    "    # #             print(i)\n",
    "    #     while (sch.get_jobs() != []):\n",
    "    #         time.sleep(100)\n",
    "    #     outfile.close()\n",
    "\n"
   ]
  },
  {
   "cell_type": "code",
   "execution_count": null,
   "metadata": {},
   "outputs": [],
   "source": []
  }
 ],
 "metadata": {
  "kernelspec": {
   "display_name": "Python 3",
   "language": "python",
   "name": "python3"
  },
  "language_info": {
   "codemirror_mode": {
    "name": "ipython",
    "version": 3
   },
   "file_extension": ".py",
   "mimetype": "text/x-python",
   "name": "python",
   "nbconvert_exporter": "python",
   "pygments_lexer": "ipython3",
   "version": "3.6.3"
  }
 },
 "nbformat": 4,
 "nbformat_minor": 2
}
